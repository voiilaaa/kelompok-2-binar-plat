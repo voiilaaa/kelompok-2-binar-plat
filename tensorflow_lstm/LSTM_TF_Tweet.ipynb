{
  "cells": [
    {
      "cell_type": "code",
      "execution_count": 1,
      "metadata": {
        "colab": {
          "base_uri": "https://localhost:8080/",
          "height": 73
        },
        "id": "Uy1tOh9zIlFM",
        "outputId": "87a26c68-774c-435d-f2f1-b75188ff1722"
      },
      "outputs": [
        {
          "output_type": "display_data",
          "data": {
            "text/plain": [
              "<IPython.core.display.HTML object>"
            ],
            "text/html": [
              "\n",
              "     <input type=\"file\" id=\"files-5896f292-9b35-4683-b3af-03297789f254\" name=\"files[]\" multiple disabled\n",
              "        style=\"border:none\" />\n",
              "     <output id=\"result-5896f292-9b35-4683-b3af-03297789f254\">\n",
              "      Upload widget is only available when the cell has been executed in the\n",
              "      current browser session. Please rerun this cell to enable.\n",
              "      </output>\n",
              "      <script>// Copyright 2017 Google LLC\n",
              "//\n",
              "// Licensed under the Apache License, Version 2.0 (the \"License\");\n",
              "// you may not use this file except in compliance with the License.\n",
              "// You may obtain a copy of the License at\n",
              "//\n",
              "//      http://www.apache.org/licenses/LICENSE-2.0\n",
              "//\n",
              "// Unless required by applicable law or agreed to in writing, software\n",
              "// distributed under the License is distributed on an \"AS IS\" BASIS,\n",
              "// WITHOUT WARRANTIES OR CONDITIONS OF ANY KIND, either express or implied.\n",
              "// See the License for the specific language governing permissions and\n",
              "// limitations under the License.\n",
              "\n",
              "/**\n",
              " * @fileoverview Helpers for google.colab Python module.\n",
              " */\n",
              "(function(scope) {\n",
              "function span(text, styleAttributes = {}) {\n",
              "  const element = document.createElement('span');\n",
              "  element.textContent = text;\n",
              "  for (const key of Object.keys(styleAttributes)) {\n",
              "    element.style[key] = styleAttributes[key];\n",
              "  }\n",
              "  return element;\n",
              "}\n",
              "\n",
              "// Max number of bytes which will be uploaded at a time.\n",
              "const MAX_PAYLOAD_SIZE = 100 * 1024;\n",
              "\n",
              "function _uploadFiles(inputId, outputId) {\n",
              "  const steps = uploadFilesStep(inputId, outputId);\n",
              "  const outputElement = document.getElementById(outputId);\n",
              "  // Cache steps on the outputElement to make it available for the next call\n",
              "  // to uploadFilesContinue from Python.\n",
              "  outputElement.steps = steps;\n",
              "\n",
              "  return _uploadFilesContinue(outputId);\n",
              "}\n",
              "\n",
              "// This is roughly an async generator (not supported in the browser yet),\n",
              "// where there are multiple asynchronous steps and the Python side is going\n",
              "// to poll for completion of each step.\n",
              "// This uses a Promise to block the python side on completion of each step,\n",
              "// then passes the result of the previous step as the input to the next step.\n",
              "function _uploadFilesContinue(outputId) {\n",
              "  const outputElement = document.getElementById(outputId);\n",
              "  const steps = outputElement.steps;\n",
              "\n",
              "  const next = steps.next(outputElement.lastPromiseValue);\n",
              "  return Promise.resolve(next.value.promise).then((value) => {\n",
              "    // Cache the last promise value to make it available to the next\n",
              "    // step of the generator.\n",
              "    outputElement.lastPromiseValue = value;\n",
              "    return next.value.response;\n",
              "  });\n",
              "}\n",
              "\n",
              "/**\n",
              " * Generator function which is called between each async step of the upload\n",
              " * process.\n",
              " * @param {string} inputId Element ID of the input file picker element.\n",
              " * @param {string} outputId Element ID of the output display.\n",
              " * @return {!Iterable<!Object>} Iterable of next steps.\n",
              " */\n",
              "function* uploadFilesStep(inputId, outputId) {\n",
              "  const inputElement = document.getElementById(inputId);\n",
              "  inputElement.disabled = false;\n",
              "\n",
              "  const outputElement = document.getElementById(outputId);\n",
              "  outputElement.innerHTML = '';\n",
              "\n",
              "  const pickedPromise = new Promise((resolve) => {\n",
              "    inputElement.addEventListener('change', (e) => {\n",
              "      resolve(e.target.files);\n",
              "    });\n",
              "  });\n",
              "\n",
              "  const cancel = document.createElement('button');\n",
              "  inputElement.parentElement.appendChild(cancel);\n",
              "  cancel.textContent = 'Cancel upload';\n",
              "  const cancelPromise = new Promise((resolve) => {\n",
              "    cancel.onclick = () => {\n",
              "      resolve(null);\n",
              "    };\n",
              "  });\n",
              "\n",
              "  // Wait for the user to pick the files.\n",
              "  const files = yield {\n",
              "    promise: Promise.race([pickedPromise, cancelPromise]),\n",
              "    response: {\n",
              "      action: 'starting',\n",
              "    }\n",
              "  };\n",
              "\n",
              "  cancel.remove();\n",
              "\n",
              "  // Disable the input element since further picks are not allowed.\n",
              "  inputElement.disabled = true;\n",
              "\n",
              "  if (!files) {\n",
              "    return {\n",
              "      response: {\n",
              "        action: 'complete',\n",
              "      }\n",
              "    };\n",
              "  }\n",
              "\n",
              "  for (const file of files) {\n",
              "    const li = document.createElement('li');\n",
              "    li.append(span(file.name, {fontWeight: 'bold'}));\n",
              "    li.append(span(\n",
              "        `(${file.type || 'n/a'}) - ${file.size} bytes, ` +\n",
              "        `last modified: ${\n",
              "            file.lastModifiedDate ? file.lastModifiedDate.toLocaleDateString() :\n",
              "                                    'n/a'} - `));\n",
              "    const percent = span('0% done');\n",
              "    li.appendChild(percent);\n",
              "\n",
              "    outputElement.appendChild(li);\n",
              "\n",
              "    const fileDataPromise = new Promise((resolve) => {\n",
              "      const reader = new FileReader();\n",
              "      reader.onload = (e) => {\n",
              "        resolve(e.target.result);\n",
              "      };\n",
              "      reader.readAsArrayBuffer(file);\n",
              "    });\n",
              "    // Wait for the data to be ready.\n",
              "    let fileData = yield {\n",
              "      promise: fileDataPromise,\n",
              "      response: {\n",
              "        action: 'continue',\n",
              "      }\n",
              "    };\n",
              "\n",
              "    // Use a chunked sending to avoid message size limits. See b/62115660.\n",
              "    let position = 0;\n",
              "    do {\n",
              "      const length = Math.min(fileData.byteLength - position, MAX_PAYLOAD_SIZE);\n",
              "      const chunk = new Uint8Array(fileData, position, length);\n",
              "      position += length;\n",
              "\n",
              "      const base64 = btoa(String.fromCharCode.apply(null, chunk));\n",
              "      yield {\n",
              "        response: {\n",
              "          action: 'append',\n",
              "          file: file.name,\n",
              "          data: base64,\n",
              "        },\n",
              "      };\n",
              "\n",
              "      let percentDone = fileData.byteLength === 0 ?\n",
              "          100 :\n",
              "          Math.round((position / fileData.byteLength) * 100);\n",
              "      percent.textContent = `${percentDone}% done`;\n",
              "\n",
              "    } while (position < fileData.byteLength);\n",
              "  }\n",
              "\n",
              "  // All done.\n",
              "  yield {\n",
              "    response: {\n",
              "      action: 'complete',\n",
              "    }\n",
              "  };\n",
              "}\n",
              "\n",
              "scope.google = scope.google || {};\n",
              "scope.google.colab = scope.google.colab || {};\n",
              "scope.google.colab._files = {\n",
              "  _uploadFiles,\n",
              "  _uploadFilesContinue,\n",
              "};\n",
              "})(self);\n",
              "</script> "
            ]
          },
          "metadata": {}
        },
        {
          "output_type": "stream",
          "name": "stdout",
          "text": [
            "Saving preprocessed.csv to preprocessed.csv\n"
          ]
        }
      ],
      "source": [
        "#import dataset\n",
        "from google.colab import files\n",
        "uploaded = files.upload()"
      ]
    },
    {
      "cell_type": "code",
      "execution_count": 2,
      "metadata": {
        "colab": {
          "base_uri": "https://localhost:8080/"
        },
        "id": "KBnp1YJHJC5D",
        "outputId": "a3891038-08d3-44db-ec8f-d22c63c0518b"
      },
      "outputs": [
        {
          "output_type": "stream",
          "name": "stderr",
          "text": [
            "[nltk_data] Downloading package punkt to /root/nltk_data...\n",
            "[nltk_data]   Unzipping tokenizers/punkt.zip.\n",
            "[nltk_data] Downloading package stopwords to /root/nltk_data...\n",
            "[nltk_data]   Unzipping corpora/stopwords.zip.\n"
          ]
        },
        {
          "output_type": "stream",
          "name": "stdout",
          "text": [
            "Looking in indexes: https://pypi.org/simple, https://us-python.pkg.dev/colab-wheels/public/simple/\n",
            "Collecting sastrawi\n",
            "  Downloading Sastrawi-1.0.1-py2.py3-none-any.whl (209 kB)\n",
            "\u001b[K     |████████████████████████████████| 209 kB 5.0 MB/s \n",
            "\u001b[?25hInstalling collected packages: sastrawi\n",
            "Successfully installed sastrawi-1.0.1\n"
          ]
        }
      ],
      "source": [
        "#import library for preprocessing data\n",
        "import re\n",
        "import pandas as pd\n",
        "import seaborn as sns\n",
        "import numpy as np\n",
        "import matplotlib.pyplot as plt\n",
        "import nltk \n",
        "nltk.download('punkt')\n",
        "nltk.download('stopwords')\n",
        "from nltk.corpus import stopwords\n",
        "from nltk import word_tokenize, FreqDist\n",
        "!pip install sastrawi\n",
        "from Sastrawi.Stemmer.StemmerFactory import StemmerFactory"
      ]
    },
    {
      "cell_type": "code",
      "execution_count": 3,
      "metadata": {
        "colab": {
          "base_uri": "https://localhost:8080/",
          "height": 206
        },
        "id": "Zw1E1cbFI_ah",
        "outputId": "20e4d107-0d10-4469-8fed-1bd6ee082d20"
      },
      "outputs": [
        {
          "output_type": "execute_result",
          "data": {
            "text/plain": [
              "                                               tweet     label\n",
              "0  mohon ulama lurus dan k212 mmbri hujjah partai...   neutral\n",
              "1  lokasi strategis di jalan sumatera bandung  te...  positive\n",
              "2  betapa bahagia nya diri ini saat unboxing pake...  positive\n",
              "3  duh  jadi mahasiswa jangan sombong dong  kasih...  negative\n",
              "4  makan agam  harga makan di food stall akan tam...  positive"
            ],
            "text/html": [
              "\n",
              "  <div id=\"df-b3bdcd9d-1388-4d5d-ae0d-61afd10dbe40\">\n",
              "    <div class=\"colab-df-container\">\n",
              "      <div>\n",
              "<style scoped>\n",
              "    .dataframe tbody tr th:only-of-type {\n",
              "        vertical-align: middle;\n",
              "    }\n",
              "\n",
              "    .dataframe tbody tr th {\n",
              "        vertical-align: top;\n",
              "    }\n",
              "\n",
              "    .dataframe thead th {\n",
              "        text-align: right;\n",
              "    }\n",
              "</style>\n",
              "<table border=\"1\" class=\"dataframe\">\n",
              "  <thead>\n",
              "    <tr style=\"text-align: right;\">\n",
              "      <th></th>\n",
              "      <th>tweet</th>\n",
              "      <th>label</th>\n",
              "    </tr>\n",
              "  </thead>\n",
              "  <tbody>\n",
              "    <tr>\n",
              "      <th>0</th>\n",
              "      <td>mohon ulama lurus dan k212 mmbri hujjah partai...</td>\n",
              "      <td>neutral</td>\n",
              "    </tr>\n",
              "    <tr>\n",
              "      <th>1</th>\n",
              "      <td>lokasi strategis di jalan sumatera bandung  te...</td>\n",
              "      <td>positive</td>\n",
              "    </tr>\n",
              "    <tr>\n",
              "      <th>2</th>\n",
              "      <td>betapa bahagia nya diri ini saat unboxing pake...</td>\n",
              "      <td>positive</td>\n",
              "    </tr>\n",
              "    <tr>\n",
              "      <th>3</th>\n",
              "      <td>duh  jadi mahasiswa jangan sombong dong  kasih...</td>\n",
              "      <td>negative</td>\n",
              "    </tr>\n",
              "    <tr>\n",
              "      <th>4</th>\n",
              "      <td>makan agam  harga makan di food stall akan tam...</td>\n",
              "      <td>positive</td>\n",
              "    </tr>\n",
              "  </tbody>\n",
              "</table>\n",
              "</div>\n",
              "      <button class=\"colab-df-convert\" onclick=\"convertToInteractive('df-b3bdcd9d-1388-4d5d-ae0d-61afd10dbe40')\"\n",
              "              title=\"Convert this dataframe to an interactive table.\"\n",
              "              style=\"display:none;\">\n",
              "        \n",
              "  <svg xmlns=\"http://www.w3.org/2000/svg\" height=\"24px\"viewBox=\"0 0 24 24\"\n",
              "       width=\"24px\">\n",
              "    <path d=\"M0 0h24v24H0V0z\" fill=\"none\"/>\n",
              "    <path d=\"M18.56 5.44l.94 2.06.94-2.06 2.06-.94-2.06-.94-.94-2.06-.94 2.06-2.06.94zm-11 1L8.5 8.5l.94-2.06 2.06-.94-2.06-.94L8.5 2.5l-.94 2.06-2.06.94zm10 10l.94 2.06.94-2.06 2.06-.94-2.06-.94-.94-2.06-.94 2.06-2.06.94z\"/><path d=\"M17.41 7.96l-1.37-1.37c-.4-.4-.92-.59-1.43-.59-.52 0-1.04.2-1.43.59L10.3 9.45l-7.72 7.72c-.78.78-.78 2.05 0 2.83L4 21.41c.39.39.9.59 1.41.59.51 0 1.02-.2 1.41-.59l7.78-7.78 2.81-2.81c.8-.78.8-2.07 0-2.86zM5.41 20L4 18.59l7.72-7.72 1.47 1.35L5.41 20z\"/>\n",
              "  </svg>\n",
              "      </button>\n",
              "      \n",
              "  <style>\n",
              "    .colab-df-container {\n",
              "      display:flex;\n",
              "      flex-wrap:wrap;\n",
              "      gap: 12px;\n",
              "    }\n",
              "\n",
              "    .colab-df-convert {\n",
              "      background-color: #E8F0FE;\n",
              "      border: none;\n",
              "      border-radius: 50%;\n",
              "      cursor: pointer;\n",
              "      display: none;\n",
              "      fill: #1967D2;\n",
              "      height: 32px;\n",
              "      padding: 0 0 0 0;\n",
              "      width: 32px;\n",
              "    }\n",
              "\n",
              "    .colab-df-convert:hover {\n",
              "      background-color: #E2EBFA;\n",
              "      box-shadow: 0px 1px 2px rgba(60, 64, 67, 0.3), 0px 1px 3px 1px rgba(60, 64, 67, 0.15);\n",
              "      fill: #174EA6;\n",
              "    }\n",
              "\n",
              "    [theme=dark] .colab-df-convert {\n",
              "      background-color: #3B4455;\n",
              "      fill: #D2E3FC;\n",
              "    }\n",
              "\n",
              "    [theme=dark] .colab-df-convert:hover {\n",
              "      background-color: #434B5C;\n",
              "      box-shadow: 0px 1px 3px 1px rgba(0, 0, 0, 0.15);\n",
              "      filter: drop-shadow(0px 1px 2px rgba(0, 0, 0, 0.3));\n",
              "      fill: #FFFFFF;\n",
              "    }\n",
              "  </style>\n",
              "\n",
              "      <script>\n",
              "        const buttonEl =\n",
              "          document.querySelector('#df-b3bdcd9d-1388-4d5d-ae0d-61afd10dbe40 button.colab-df-convert');\n",
              "        buttonEl.style.display =\n",
              "          google.colab.kernel.accessAllowed ? 'block' : 'none';\n",
              "\n",
              "        async function convertToInteractive(key) {\n",
              "          const element = document.querySelector('#df-b3bdcd9d-1388-4d5d-ae0d-61afd10dbe40');\n",
              "          const dataTable =\n",
              "            await google.colab.kernel.invokeFunction('convertToInteractive',\n",
              "                                                     [key], {});\n",
              "          if (!dataTable) return;\n",
              "\n",
              "          const docLinkHtml = 'Like what you see? Visit the ' +\n",
              "            '<a target=\"_blank\" href=https://colab.research.google.com/notebooks/data_table.ipynb>data table notebook</a>'\n",
              "            + ' to learn more about interactive tables.';\n",
              "          element.innerHTML = '';\n",
              "          dataTable['output_type'] = 'display_data';\n",
              "          await google.colab.output.renderOutput(dataTable, element);\n",
              "          const docLink = document.createElement('div');\n",
              "          docLink.innerHTML = docLinkHtml;\n",
              "          element.appendChild(docLink);\n",
              "        }\n",
              "      </script>\n",
              "    </div>\n",
              "  </div>\n",
              "  "
            ]
          },
          "metadata": {},
          "execution_count": 3
        }
      ],
      "source": [
        "#labeling column\n",
        "df = pd.read_csv('/content/preprocessed.csv', index_col=0)\n",
        "df.head()"
      ]
    },
    {
      "cell_type": "code",
      "execution_count": null,
      "metadata": {
        "id": "8RGz8c6myfkn"
      },
      "outputs": [],
      "source": [
        "def preprocess(sentence):\n",
        "    factory = StemmerFactory()\n",
        "    stemmer = factory.create_stemmer()\n",
        "    tokens = word_tokenize(sentence)\n",
        "    final = [stemmer.stem(tagged_word) for tagged_word in tokens]\n",
        "    return \" \".join(final)\n",
        "df['tweet'] = df['tweet'].apply(preprocess)"
      ]
    },
    {
      "cell_type": "code",
      "execution_count": 4,
      "metadata": {
        "colab": {
          "base_uri": "https://localhost:8080/"
        },
        "id": "Idsxh1Fk2Edz",
        "outputId": "1327d428-a499-43c8-9d7d-16feafd3168a"
      },
      "outputs": [
        {
          "output_type": "execute_result",
          "data": {
            "text/plain": [
              "tweet    0\n",
              "label    0\n",
              "dtype: int64"
            ]
          },
          "metadata": {},
          "execution_count": 4
        }
      ],
      "source": [
        "df.isnull().sum()"
      ]
    },
    {
      "cell_type": "code",
      "execution_count": 5,
      "metadata": {
        "id": "buv-7WHM2ReJ"
      },
      "outputs": [],
      "source": [
        "df['tweet'] = df['tweet'].astype(str)"
      ]
    },
    {
      "cell_type": "code",
      "execution_count": 6,
      "metadata": {
        "id": "WGPljj632Ozd"
      },
      "outputs": [],
      "source": [
        "def cleaning(tweet):\n",
        "  \n",
        "  string = tweet.lower()\n",
        "  string = re.sub(r'[^a-zA-Z]+', ' ', string)\n",
        "  string = re.sub('0-9', ' ', string)\n",
        "  \n",
        "  return string\n",
        "df['tweet'] = df['tweet'].apply(cleaning)"
      ]
    },
    {
      "cell_type": "code",
      "execution_count": 7,
      "metadata": {
        "id": "Rcz8IZHk2Ubu"
      },
      "outputs": [],
      "source": [
        "from Sastrawi.StopWordRemover.StopWordRemoverFactory import StopWordRemoverFactory\n",
        "reader = df['tweet']\n",
        "factory = StopWordRemoverFactory()\n",
        "stopwords = factory.create_stop_word_remover()\n",
        "df['tweet'] = df['tweet'].apply(stopwords.remove)"
      ]
    },
    {
      "cell_type": "code",
      "execution_count": 8,
      "metadata": {
        "id": "SacXlpw3322Z"
      },
      "outputs": [],
      "source": [
        "from nltk.corpus import stopwords as stopwords_scratch\n",
        "\n",
        "list_sw = stopwords_scratch.words('indonesian')\n",
        "list_sw_en = stopwords_scratch.words('english')\n",
        "list_sw.extend(list_sw_en)\n",
        "list_sw.extend(['ya', 'yuk', 'dah', 'yah', 'pa', 'ai', 'sepe', 'sih'])\n",
        "stopwords = list_sw"
      ]
    },
    {
      "cell_type": "code",
      "execution_count": 9,
      "metadata": {
        "colab": {
          "base_uri": "https://localhost:8080/"
        },
        "id": "qPbFIEAb3TbN",
        "outputId": "e79a00cb-e27d-4a57-beb6-0ae9e68c07f9"
      },
      "outputs": [
        {
          "output_type": "execute_result",
          "data": {
            "text/plain": [
              "200"
            ]
          },
          "metadata": {},
          "execution_count": 9
        }
      ],
      "source": [
        "df.tweet.duplicated().sum()"
      ]
    },
    {
      "cell_type": "code",
      "execution_count": 10,
      "metadata": {
        "id": "PimmyZD63YDH"
      },
      "outputs": [],
      "source": [
        "df['tweet'] = df['tweet'].drop_duplicates()"
      ]
    },
    {
      "cell_type": "code",
      "execution_count": 11,
      "metadata": {
        "colab": {
          "base_uri": "https://localhost:8080/"
        },
        "id": "WqkLz01T3c44",
        "outputId": "6a6ac5cf-e35d-4f1c-cd5d-22bfbc578d7f"
      },
      "outputs": [
        {
          "output_type": "execute_result",
          "data": {
            "text/plain": [
              "positive    6415\n",
              "negative    3436\n",
              "neutral     1148\n",
              "Name: label, dtype: int64"
            ]
          },
          "metadata": {},
          "execution_count": 11
        }
      ],
      "source": [
        "df.label.value_counts()"
      ]
    },
    {
      "cell_type": "code",
      "execution_count": 12,
      "metadata": {
        "id": "wq0mULSR5WD8"
      },
      "outputs": [],
      "source": [
        "df['tweet'] = df['tweet'].astype(str)"
      ]
    },
    {
      "cell_type": "code",
      "execution_count": 13,
      "metadata": {
        "colab": {
          "base_uri": "https://localhost:8080/",
          "height": 424
        },
        "id": "8hF5KrygJ4Xc",
        "outputId": "df3649fe-44c1-4839-8f17-536798f47dd6"
      },
      "outputs": [
        {
          "output_type": "execute_result",
          "data": {
            "text/plain": [
              "                                                   tweet  negative  neutral  \\\n",
              "0      mohon ulama lurus k mmbri hujjah partai apa ha...         0        1   \n",
              "1      lokasi strategis jalan sumatera bandung tempat...         0        0   \n",
              "2      betapa bahagia nya diri saat unboxing paket ba...         0        0   \n",
              "3      duh jadi mahasiswa jangan sombong dong kasih k...         1        0   \n",
              "4      makan agam harga makan food stall tambah di ka...         0        0   \n",
              "...                                                  ...       ...      ...   \n",
              "10994                                                nan         0        0   \n",
              "10995  enak rasa masakan nya kepiting senang pilih ke...         0        0   \n",
              "10996                                                nan         0        1   \n",
              "10997  pagi pagi tol pasteur macet parah bikin jengke...         1        0   \n",
              "10998  meski sering belanja yogya riau junction baru ...         0        0   \n",
              "\n",
              "       positive  \n",
              "0             0  \n",
              "1             1  \n",
              "2             1  \n",
              "3             0  \n",
              "4             1  \n",
              "...         ...  \n",
              "10994         1  \n",
              "10995         1  \n",
              "10996         0  \n",
              "10997         0  \n",
              "10998         1  \n",
              "\n",
              "[10999 rows x 4 columns]"
            ],
            "text/html": [
              "\n",
              "  <div id=\"df-605d52a7-d713-4c5a-8097-29471a566ebd\">\n",
              "    <div class=\"colab-df-container\">\n",
              "      <div>\n",
              "<style scoped>\n",
              "    .dataframe tbody tr th:only-of-type {\n",
              "        vertical-align: middle;\n",
              "    }\n",
              "\n",
              "    .dataframe tbody tr th {\n",
              "        vertical-align: top;\n",
              "    }\n",
              "\n",
              "    .dataframe thead th {\n",
              "        text-align: right;\n",
              "    }\n",
              "</style>\n",
              "<table border=\"1\" class=\"dataframe\">\n",
              "  <thead>\n",
              "    <tr style=\"text-align: right;\">\n",
              "      <th></th>\n",
              "      <th>tweet</th>\n",
              "      <th>negative</th>\n",
              "      <th>neutral</th>\n",
              "      <th>positive</th>\n",
              "    </tr>\n",
              "  </thead>\n",
              "  <tbody>\n",
              "    <tr>\n",
              "      <th>0</th>\n",
              "      <td>mohon ulama lurus k mmbri hujjah partai apa ha...</td>\n",
              "      <td>0</td>\n",
              "      <td>1</td>\n",
              "      <td>0</td>\n",
              "    </tr>\n",
              "    <tr>\n",
              "      <th>1</th>\n",
              "      <td>lokasi strategis jalan sumatera bandung tempat...</td>\n",
              "      <td>0</td>\n",
              "      <td>0</td>\n",
              "      <td>1</td>\n",
              "    </tr>\n",
              "    <tr>\n",
              "      <th>2</th>\n",
              "      <td>betapa bahagia nya diri saat unboxing paket ba...</td>\n",
              "      <td>0</td>\n",
              "      <td>0</td>\n",
              "      <td>1</td>\n",
              "    </tr>\n",
              "    <tr>\n",
              "      <th>3</th>\n",
              "      <td>duh jadi mahasiswa jangan sombong dong kasih k...</td>\n",
              "      <td>1</td>\n",
              "      <td>0</td>\n",
              "      <td>0</td>\n",
              "    </tr>\n",
              "    <tr>\n",
              "      <th>4</th>\n",
              "      <td>makan agam harga makan food stall tambah di ka...</td>\n",
              "      <td>0</td>\n",
              "      <td>0</td>\n",
              "      <td>1</td>\n",
              "    </tr>\n",
              "    <tr>\n",
              "      <th>...</th>\n",
              "      <td>...</td>\n",
              "      <td>...</td>\n",
              "      <td>...</td>\n",
              "      <td>...</td>\n",
              "    </tr>\n",
              "    <tr>\n",
              "      <th>10994</th>\n",
              "      <td>nan</td>\n",
              "      <td>0</td>\n",
              "      <td>0</td>\n",
              "      <td>1</td>\n",
              "    </tr>\n",
              "    <tr>\n",
              "      <th>10995</th>\n",
              "      <td>enak rasa masakan nya kepiting senang pilih ke...</td>\n",
              "      <td>0</td>\n",
              "      <td>0</td>\n",
              "      <td>1</td>\n",
              "    </tr>\n",
              "    <tr>\n",
              "      <th>10996</th>\n",
              "      <td>nan</td>\n",
              "      <td>0</td>\n",
              "      <td>1</td>\n",
              "      <td>0</td>\n",
              "    </tr>\n",
              "    <tr>\n",
              "      <th>10997</th>\n",
              "      <td>pagi pagi tol pasteur macet parah bikin jengke...</td>\n",
              "      <td>1</td>\n",
              "      <td>0</td>\n",
              "      <td>0</td>\n",
              "    </tr>\n",
              "    <tr>\n",
              "      <th>10998</th>\n",
              "      <td>meski sering belanja yogya riau junction baru ...</td>\n",
              "      <td>0</td>\n",
              "      <td>0</td>\n",
              "      <td>1</td>\n",
              "    </tr>\n",
              "  </tbody>\n",
              "</table>\n",
              "<p>10999 rows × 4 columns</p>\n",
              "</div>\n",
              "      <button class=\"colab-df-convert\" onclick=\"convertToInteractive('df-605d52a7-d713-4c5a-8097-29471a566ebd')\"\n",
              "              title=\"Convert this dataframe to an interactive table.\"\n",
              "              style=\"display:none;\">\n",
              "        \n",
              "  <svg xmlns=\"http://www.w3.org/2000/svg\" height=\"24px\"viewBox=\"0 0 24 24\"\n",
              "       width=\"24px\">\n",
              "    <path d=\"M0 0h24v24H0V0z\" fill=\"none\"/>\n",
              "    <path d=\"M18.56 5.44l.94 2.06.94-2.06 2.06-.94-2.06-.94-.94-2.06-.94 2.06-2.06.94zm-11 1L8.5 8.5l.94-2.06 2.06-.94-2.06-.94L8.5 2.5l-.94 2.06-2.06.94zm10 10l.94 2.06.94-2.06 2.06-.94-2.06-.94-.94-2.06-.94 2.06-2.06.94z\"/><path d=\"M17.41 7.96l-1.37-1.37c-.4-.4-.92-.59-1.43-.59-.52 0-1.04.2-1.43.59L10.3 9.45l-7.72 7.72c-.78.78-.78 2.05 0 2.83L4 21.41c.39.39.9.59 1.41.59.51 0 1.02-.2 1.41-.59l7.78-7.78 2.81-2.81c.8-.78.8-2.07 0-2.86zM5.41 20L4 18.59l7.72-7.72 1.47 1.35L5.41 20z\"/>\n",
              "  </svg>\n",
              "      </button>\n",
              "      \n",
              "  <style>\n",
              "    .colab-df-container {\n",
              "      display:flex;\n",
              "      flex-wrap:wrap;\n",
              "      gap: 12px;\n",
              "    }\n",
              "\n",
              "    .colab-df-convert {\n",
              "      background-color: #E8F0FE;\n",
              "      border: none;\n",
              "      border-radius: 50%;\n",
              "      cursor: pointer;\n",
              "      display: none;\n",
              "      fill: #1967D2;\n",
              "      height: 32px;\n",
              "      padding: 0 0 0 0;\n",
              "      width: 32px;\n",
              "    }\n",
              "\n",
              "    .colab-df-convert:hover {\n",
              "      background-color: #E2EBFA;\n",
              "      box-shadow: 0px 1px 2px rgba(60, 64, 67, 0.3), 0px 1px 3px 1px rgba(60, 64, 67, 0.15);\n",
              "      fill: #174EA6;\n",
              "    }\n",
              "\n",
              "    [theme=dark] .colab-df-convert {\n",
              "      background-color: #3B4455;\n",
              "      fill: #D2E3FC;\n",
              "    }\n",
              "\n",
              "    [theme=dark] .colab-df-convert:hover {\n",
              "      background-color: #434B5C;\n",
              "      box-shadow: 0px 1px 3px 1px rgba(0, 0, 0, 0.15);\n",
              "      filter: drop-shadow(0px 1px 2px rgba(0, 0, 0, 0.3));\n",
              "      fill: #FFFFFF;\n",
              "    }\n",
              "  </style>\n",
              "\n",
              "      <script>\n",
              "        const buttonEl =\n",
              "          document.querySelector('#df-605d52a7-d713-4c5a-8097-29471a566ebd button.colab-df-convert');\n",
              "        buttonEl.style.display =\n",
              "          google.colab.kernel.accessAllowed ? 'block' : 'none';\n",
              "\n",
              "        async function convertToInteractive(key) {\n",
              "          const element = document.querySelector('#df-605d52a7-d713-4c5a-8097-29471a566ebd');\n",
              "          const dataTable =\n",
              "            await google.colab.kernel.invokeFunction('convertToInteractive',\n",
              "                                                     [key], {});\n",
              "          if (!dataTable) return;\n",
              "\n",
              "          const docLinkHtml = 'Like what you see? Visit the ' +\n",
              "            '<a target=\"_blank\" href=https://colab.research.google.com/notebooks/data_table.ipynb>data table notebook</a>'\n",
              "            + ' to learn more about interactive tables.';\n",
              "          element.innerHTML = '';\n",
              "          dataTable['output_type'] = 'display_data';\n",
              "          await google.colab.output.renderOutput(dataTable, element);\n",
              "          const docLink = document.createElement('div');\n",
              "          docLink.innerHTML = docLinkHtml;\n",
              "          element.appendChild(docLink);\n",
              "        }\n",
              "      </script>\n",
              "    </div>\n",
              "  </div>\n",
              "  "
            ]
          },
          "metadata": {},
          "execution_count": 13
        }
      ],
      "source": [
        "category = pd.get_dummies(df.label)\n",
        "df_new = pd.concat([df, category], axis= 1)\n",
        "df_new = df_new.drop(columns='label')\n",
        "df_new"
      ]
    },
    {
      "cell_type": "code",
      "execution_count": 14,
      "metadata": {
        "id": "a41i1ENzKKSh"
      },
      "outputs": [],
      "source": [
        "sentimen = df_new['tweet'].values\n",
        "label = df_new[['negative', 'neutral', 'positive']].values"
      ]
    },
    {
      "cell_type": "code",
      "execution_count": 15,
      "metadata": {
        "colab": {
          "base_uri": "https://localhost:8080/"
        },
        "id": "gKGSHOVaGu_3",
        "outputId": "426e97a6-adab-482d-f722-52614e41995f"
      },
      "outputs": [
        {
          "output_type": "stream",
          "name": "stderr",
          "text": [
            "/usr/local/lib/python3.8/dist-packages/sklearn/feature_extraction/text.py:396: UserWarning: Your stop_words may be inconsistent with your preprocessing. Tokenizing the stop words generated tokens ['baiknya', 'berkali', 'kali', 'kurangnya', 'mata', 'olah', 'sekurang', 'setidak', 'tama', 'tidaknya'] not in stop_words.\n",
            "  warnings.warn(\n"
          ]
        }
      ],
      "source": [
        "from sklearn.feature_extraction.text import TfidfVectorizer\n",
        "\n",
        "tfidf = TfidfVectorizer(stop_words=stopwords)\n",
        "X = tfidf.fit_transform(df_new.tweet.to_list())"
      ]
    },
    {
      "cell_type": "markdown",
      "metadata": {
        "id": "-9sdDfw156Rp"
      },
      "source": [
        "Model LSTM TF"
      ]
    },
    {
      "cell_type": "code",
      "execution_count": 16,
      "metadata": {
        "id": "z8nIOFIQ5mIy"
      },
      "outputs": [],
      "source": [
        "#import library model \n",
        "import tensorflow as tf\n",
        "from sklearn.model_selection import train_test_split\n",
        "from tensorflow.keras.preprocessing.text import Tokenizer\n",
        "from tensorflow.keras.preprocessing.sequence import pad_sequences\n",
        "from tensorflow.keras.layers import Input, LSTM, Dense, Embedding, Dropout, Activation\n",
        "from tensorflow.keras.models import Sequential, Model\n",
        "from tensorflow.keras.optimizers import Adam\n",
        "from sklearn.metrics import confusion_matrix, ConfusionMatrixDisplay, classification_report, plot_confusion_matrix, accuracy_score\n",
        "from sklearn.model_selection import KFold"
      ]
    },
    {
      "cell_type": "code",
      "execution_count": 18,
      "metadata": {
        "colab": {
          "base_uri": "https://localhost:8080/"
        },
        "id": "E_L5n3Sp55wn",
        "outputId": "91e0aff5-e428-4847-ccf3-f52ec4ec38ee"
      },
      "outputs": [
        {
          "output_type": "stream",
          "name": "stdout",
          "text": [
            "Training dataset:\n",
            " (8799,) (8799, 3)\n",
            "\n",
            "Test dataset:\n",
            " (2200,) (2200, 3)\n"
          ]
        }
      ],
      "source": [
        "X_latih, X_test, y_latih, y_test = train_test_split(sentimen, label, test_size=0.2, random_state=42, shuffle=True, stratify = label)\n",
        "print('Training dataset:\\n', X_latih.shape, y_latih.shape)\n",
        "print('\\nTest dataset:\\n', X_test.shape, y_test.shape)"
      ]
    },
    {
      "cell_type": "code",
      "execution_count": 19,
      "metadata": {
        "id": "o9O_M57s9nXy"
      },
      "outputs": [],
      "source": [
        "vocab_size = 5000\n",
        "embedding_dim = 64\n",
        "max_length = 200\n",
        "trunc_type = 'post'\n",
        "padding_type = 'post'\n",
        "oov_tok = 'x'\n",
        "training_portion = .8"
      ]
    },
    {
      "cell_type": "code",
      "execution_count": 20,
      "metadata": {
        "colab": {
          "base_uri": "https://localhost:8080/"
        },
        "id": "l4EgL8ik9i8H",
        "outputId": "41c5d3ad-1eb0-4913-acbc-0fb2b56c58e7"
      },
      "outputs": [
        {
          "output_type": "execute_result",
          "data": {
            "text/plain": [
              "{'x': 767,\n",
              " 'nya': 2,\n",
              " 'makan': 3,\n",
              " 'enak': 4,\n",
              " 'tempat': 5,\n",
              " 'rasa': 6,\n",
              " 'sangat': 7,\n",
              " 'harga': 8,\n",
              " 'sini': 9,\n",
              " 'menu': 10}"
            ]
          },
          "metadata": {},
          "execution_count": 20
        }
      ],
      "source": [
        "tokenizer = Tokenizer(num_words = vocab_size, oov_token=oov_tok)\n",
        "tokenizer.fit_on_texts(X_latih)\n",
        "word_index = tokenizer.word_index\n",
        "dict(list(word_index.items())[0:10])"
      ]
    },
    {
      "cell_type": "code",
      "execution_count": 21,
      "metadata": {
        "id": "vR-YCIg-98pi"
      },
      "outputs": [],
      "source": [
        "sekuens_train = tokenizer.texts_to_sequences(X_latih)\n",
        "train_padded = pad_sequences(sekuens_train, maxlen=max_length, padding=padding_type, truncating=trunc_type)\n",
        "sekuens_test = tokenizer.texts_to_sequences(X_test)\n",
        "test_padded = pad_sequences(sekuens_test, maxlen=max_length, padding=padding_type, truncating=trunc_type)"
      ]
    },
    {
      "cell_type": "code",
      "execution_count": 22,
      "metadata": {
        "id": "DinuKdaVLzmT"
      },
      "outputs": [],
      "source": [
        "model = tf.keras.Sequential([\n",
        "    tf.keras.layers.Embedding(vocab_size, embedding_dim),\n",
        "    tf.keras.layers.Bidirectional(tf.keras.layers.LSTM(64)),\n",
        "    tf.keras.layers.Dense(32, activation='relu'),\n",
        "    tf.keras.layers.Dense(3, activation='softmax')\n",
        "])"
      ]
    },
    {
      "cell_type": "code",
      "execution_count": 23,
      "metadata": {
        "colab": {
          "base_uri": "https://localhost:8080/"
        },
        "id": "BV_dnuDRAgZb",
        "outputId": "5a5bb63a-2e26-41b8-a4f8-737e578d0e51"
      },
      "outputs": [
        {
          "output_type": "stream",
          "name": "stdout",
          "text": [
            "Model: \"sequential\"\n",
            "_________________________________________________________________\n",
            " Layer (type)                Output Shape              Param #   \n",
            "=================================================================\n",
            " embedding (Embedding)       (None, None, 64)          320000    \n",
            "                                                                 \n",
            " bidirectional (Bidirectiona  (None, 128)              66048     \n",
            " l)                                                              \n",
            "                                                                 \n",
            " dense (Dense)               (None, 32)                4128      \n",
            "                                                                 \n",
            " dense_1 (Dense)             (None, 3)                 99        \n",
            "                                                                 \n",
            "=================================================================\n",
            "Total params: 390,275\n",
            "Trainable params: 390,275\n",
            "Non-trainable params: 0\n",
            "_________________________________________________________________\n"
          ]
        }
      ],
      "source": [
        "model.summary()"
      ]
    },
    {
      "cell_type": "code",
      "execution_count": 24,
      "metadata": {
        "id": "3dO0aYAwA2la"
      },
      "outputs": [],
      "source": [
        "model.compile(loss='categorical_crossentropy', optimizer='adam', metrics=['accuracy'])"
      ]
    },
    {
      "cell_type": "code",
      "execution_count": 25,
      "metadata": {
        "id": "uwxvRC9DB4lB"
      },
      "outputs": [],
      "source": [
        "class myCallback(tf.keras.callbacks.Callback):\n",
        "  def on_epoch_end(self, epoch, logs={}):\n",
        "    if(logs.get('accuracy')>0.90 and logs.get('val_accuracy')>0.85):\n",
        "      print(\"good enough\")\n",
        "      self.model.stop_training = True\n",
        "callbacks = myCallback()"
      ]
    },
    {
      "cell_type": "code",
      "execution_count": 26,
      "metadata": {
        "colab": {
          "base_uri": "https://localhost:8080/"
        },
        "id": "JgLzIZxEA5iY",
        "outputId": "1ee57c86-7e0b-4673-aadd-125dfbc152d4"
      },
      "outputs": [
        {
          "output_type": "stream",
          "name": "stdout",
          "text": [
            "Epoch 1/5\n",
            "275/275 - 62s - loss: 0.5707 - accuracy: 0.7653 - val_loss: 0.3896 - val_accuracy: 0.8482 - 62s/epoch - 225ms/step\n",
            "Epoch 2/5\n",
            "275/275 - 60s - loss: 0.2930 - accuracy: 0.8896 - val_loss: 0.3349 - val_accuracy: 0.8732 - 60s/epoch - 218ms/step\n",
            "Epoch 3/5\n",
            "good enough\n",
            "275/275 - 57s - loss: 0.1991 - accuracy: 0.9276 - val_loss: 0.3692 - val_accuracy: 0.8764 - 57s/epoch - 206ms/step\n"
          ]
        }
      ],
      "source": [
        "num_epochs = 5\n",
        "history = model.fit(train_padded,\n",
        "                    y_latih,\n",
        "                    epochs=num_epochs,\n",
        "                    validation_data=(test_padded, y_test),\n",
        "                    verbose=2,\n",
        "                    callbacks=[callbacks])"
      ]
    },
    {
      "cell_type": "code",
      "source": [
        "# Create pandas DataFrame\n",
        "df_history = pd.DataFrame(history.history)\n",
        "print(df_history)\n",
        "\n",
        "my_plot = sns.lineplot(data=df_history[[\"accuracy\",\"val_accuracy\"]])\n",
        "my_plot.set_xlabel('Epochs')\n",
        "my_plot.set_ylabel('Accuracy')\n",
        "plt.legend(labels=[\"Training\", \"Validation\"], loc='upper left')\n",
        "plt.title('Training and Validation Accuracy')\n",
        "plt.show();"
      ],
      "metadata": {
        "colab": {
          "base_uri": "https://localhost:8080/",
          "height": 364
        },
        "id": "MCYNf2Jlb81N",
        "outputId": "1953c0c5-4050-40d3-fc1a-38acce614ce5"
      },
      "execution_count": 33,
      "outputs": [
        {
          "output_type": "stream",
          "name": "stdout",
          "text": [
            "       loss  accuracy  val_loss  val_accuracy\n",
            "0  0.570747  0.765314  0.389619      0.848182\n",
            "1  0.293016  0.889647  0.334908      0.873182\n",
            "2  0.199074  0.927605  0.369161      0.876364\n"
          ]
        },
        {
          "output_type": "display_data",
          "data": {
            "text/plain": [
              "<Figure size 432x288 with 1 Axes>"
            ],
            "image/png": "[encoded data removed]"
          },
          "metadata": {
            "needs_background": "light"
          }
        }
      ]
    },
    {
      "cell_type": "code",
      "execution_count": null,
      "metadata": {
        "colab": {
          "base_uri": "https://localhost:8080/",
          "height": 295
        },
        "id": "kQzXLUimObA_",
        "outputId": "712c1a60-5072-49e4-e7ea-cb219e628d6b"
      },
      "outputs": [
        {
          "data": {
            "image/png": "[encoded data removed]",
            "text/plain": [
              "<Figure size 432x288 with 1 Axes>"
            ]
          },
          "metadata": {
            "needs_background": "light"
          },
          "output_type": "display_data"
        }
      ],
      "source": [
        "plt.plot(history.history['accuracy'])\n",
        "plt.plot(history.history['val_accuracy'])\n",
        "plt.title('Model Accuracy')\n",
        "plt.ylabel('accuracy')\n",
        "plt.xlabel('epoch')\n",
        "plt.legend(['train', 'test'], loc='upper left')\n",
        "plt.show()"
      ]
    },
    {
      "cell_type": "code",
      "source": [
        "# Create pandas DataFrame\n",
        "df_history = pd.DataFrame(history.history)\n",
        "print(df_history)\n",
        " \n",
        "# Plot using Seaborn\n",
        "my_plot = sns.lineplot(data=df_history[[\"loss\",\"val_loss\"]])\n",
        "my_plot.set_xlabel('Epochs')\n",
        "my_plot.set_ylabel('Loss')\n",
        "plt.legend(labels=[\"Training\", \"Validation\"], loc='upper left')\n",
        "plt.title('Training and Validation Loss')\n",
        "plt.show()"
      ],
      "metadata": {
        "colab": {
          "base_uri": "https://localhost:8080/",
          "height": 364
        },
        "id": "ne0-FCSecKD-",
        "outputId": "41f288f9-9973-4a8c-f78d-06f5c6bfd3c1"
      },
      "execution_count": 30,
      "outputs": [
        {
          "output_type": "stream",
          "name": "stdout",
          "text": [
            "       loss  accuracy  val_loss  val_accuracy\n",
            "0  0.570747  0.765314  0.389619      0.848182\n",
            "1  0.293016  0.889647  0.334908      0.873182\n",
            "2  0.199074  0.927605  0.369161      0.876364\n"
          ]
        },
        {
          "output_type": "display_data",
          "data": {
            "text/plain": [
              "<Figure size 432x288 with 1 Axes>"
            ],
            "image/png": "[encoded data removed]"
          },
          "metadata": {
            "needs_background": "light"
          }
        }
      ]
    },
    {
      "cell_type": "code",
      "execution_count": 31,
      "metadata": {
        "colab": {
          "base_uri": "https://localhost:8080/",
          "height": 295
        },
        "id": "zLcJirwtOgNf",
        "outputId": "c77d5288-c785-46e0-ed22-a73ece596a9e"
      },
      "outputs": [
        {
          "output_type": "display_data",
          "data": {
            "text/plain": [
              "<Figure size 432x288 with 1 Axes>"
            ],
            "image/png": "[encoded data removed]"
          },
          "metadata": {
            "needs_background": "light"
          }
        }
      ],
      "source": [
        "plt.plot(history.history['loss'])\n",
        "plt.plot(history.history['val_loss'])\n",
        "plt.title('Model Loss')\n",
        "plt.ylabel('loss')\n",
        "plt.xlabel('epoch')\n",
        "plt.legend(['train', 'test'], loc='upper left')\n",
        "plt.show()"
      ]
    },
    {
      "cell_type": "code",
      "execution_count": null,
      "metadata": {
        "colab": {
          "base_uri": "https://localhost:8080/",
          "height": 533
        },
        "id": "Uzsax3uCOkg5",
        "outputId": "8f7f5bcd-4c81-4674-ceac-bc1b10b041ee"
      },
      "outputs": [
        {
          "data": {
            "image/png": "[encoded data removed]",
            "text/plain": [
              "<IPython.core.display.Image object>"
            ]
          },
          "execution_count": 58,
          "metadata": {},
          "output_type": "execute_result"
        }
      ],
      "source": [
        "import pydot\n",
        "import graphviz\n",
        "tf.keras.utils.plot_model(model, show_shapes=True)"
      ]
    },
    {
      "cell_type": "code",
      "execution_count": null,
      "metadata": {
        "id": "YUWMzc29VQ-L"
      },
      "outputs": [],
      "source": [
        "model.save('lstmmodelrenewal.h5')"
      ]
    },
    {
      "cell_type": "code",
      "execution_count": null,
      "metadata": {
        "colab": {
          "base_uri": "https://localhost:8080/"
        },
        "id": "XwLwItnCRK8S",
        "outputId": "dae53b93-4107-43e9-93e7-2929d0096319"
      },
      "outputs": [
        {
          "name": "stdout",
          "output_type": "stream",
          "text": [
            "69/69 - 3s - loss: 0.3533 - accuracy: 0.8736 - 3s/epoch - 50ms/step\n",
            "Restored model, accuracy: 87.36%\n"
          ]
        }
      ],
      "source": [
        "loss, acc = model.evaluate(x=test_padded, y=y_test, verbose=2)\n",
        "print(\"Restored model, accuracy: {:5.2f}%\".format(100 * acc))"
      ]
    },
    {
      "cell_type": "code",
      "execution_count": null,
      "metadata": {
        "colab": {
          "base_uri": "https://localhost:8080/"
        },
        "id": "ISuktUt-RRck",
        "outputId": "872b921d-a751-42f2-acbf-745c1aafaa3f"
      },
      "outputs": [
        {
          "name": "stdout",
          "output_type": "stream",
          "text": [
            "69/69 [==============================] - 4s 55ms/step\n",
            "done testing\n",
            "              precision    recall  f1-score   support\n",
            "\n",
            "           0       0.81      0.82      0.82       687\n",
            "           1       0.86      0.72      0.79       230\n",
            "           2       0.91      0.93      0.92      1283\n",
            "\n",
            "    accuracy                           0.87      2200\n",
            "   macro avg       0.86      0.82      0.84      2200\n",
            "weighted avg       0.87      0.87      0.87      2200\n",
            "\n"
          ]
        }
      ],
      "source": [
        "pred = model.predict(test_padded)\n",
        "y_pred = pred\n",
        "matrix_test = metrics.classification_report(y_test.argmax(axis=1), y_pred.argmax(axis=1))\n",
        "print('done testing')\n",
        "print(matrix_test)"
      ]
    },
    {
      "cell_type": "code",
      "execution_count": null,
      "metadata": {
        "colab": {
          "base_uri": "https://localhost:8080/"
        },
        "id": "epqxdR0qR6so",
        "outputId": "1f5d3625-1271-40c4-e54d-bd79278bb662"
      },
      "outputs": [
        {
          "name": "stdout",
          "output_type": "stream",
          "text": [
            "good enough\n",
            "69/69 [==============================] - 5s 56ms/step\n",
            "perulangan ke- 1\n",
            "              precision    recall  f1-score   support\n",
            "\n",
            "           0       0.84      0.78      0.81       687\n",
            "           1       0.84      0.79      0.81       230\n",
            "           2       0.89      0.94      0.91      1283\n",
            "\n",
            "    accuracy                           0.87      2200\n",
            "   macro avg       0.86      0.84      0.85      2200\n",
            "weighted avg       0.87      0.87      0.87      2200\n",
            "\n",
            "---------------------------------------------------------------\n",
            "good enough\n",
            "69/69 [==============================] - 5s 56ms/step\n",
            "perulangan ke- 2\n",
            "              precision    recall  f1-score   support\n",
            "\n",
            "           0       0.88      0.72      0.79       687\n",
            "           1       0.67      0.87      0.76       230\n",
            "           2       0.89      0.93      0.91      1283\n",
            "\n",
            "    accuracy                           0.86      2200\n",
            "   macro avg       0.82      0.84      0.82      2200\n",
            "weighted avg       0.87      0.86      0.86      2200\n",
            "\n",
            "---------------------------------------------------------------\n",
            "good enough\n",
            "69/69 [==============================] - 5s 57ms/step\n",
            "perulangan ke- 3\n",
            "              precision    recall  f1-score   support\n",
            "\n",
            "           0       0.81      0.81      0.81       687\n",
            "           1       0.86      0.69      0.77       230\n",
            "           2       0.90      0.94      0.92      1283\n",
            "\n",
            "    accuracy                           0.87      2200\n",
            "   macro avg       0.86      0.81      0.83      2200\n",
            "weighted avg       0.87      0.87      0.87      2200\n",
            "\n",
            "---------------------------------------------------------------\n",
            "\n",
            "\n",
            "akurasi sebesar: 0.8684848484848485\n"
          ]
        }
      ],
      "source": [
        "kf = KFold(n_splits=3, random_state=42, shuffle=True)\n",
        "accuracies=[]\n",
        "\n",
        "y = y_test\n",
        "embed_dim = 100\n",
        "units = 64\n",
        "\n",
        "for iteration, data in enumerate(kf.split(test_padded), start=1):\n",
        "  data_test = test_padded[0]\n",
        "  target_test = y_test\n",
        "\n",
        "  model = tf.keras.Sequential([\n",
        "    tf.keras.layers.Embedding(vocab_size, embedding_dim),\n",
        "    tf.keras.layers.Bidirectional(tf.keras.layers.LSTM(64)),\n",
        "    tf.keras.layers.Dense(32, activation='relu'),\n",
        "    tf.keras.layers.Dense(3, activation='softmax')\n",
        "  ])\n",
        "\n",
        "  model.compile(loss='categorical_crossentropy', optimizer='adam', metrics=['accuracy'])\n",
        "  \n",
        "  class myCallback(tf.keras.callbacks.Callback):\n",
        "    def on_epoch_end(self, epoch, logs={}):\n",
        "      if(logs.get('accuracy')>0.90 and logs.get('val_accuracy')>0.85):\n",
        "        print(\"good enough\")\n",
        "        self.model.stop_training = True\n",
        "  callbacks = myCallback()\n",
        "\n",
        "  history = model.fit(train_padded,\n",
        "                    y_latih,\n",
        "                    epochs=5,\n",
        "                    validation_data=(test_padded, y_test),\n",
        "                    verbose=0,\n",
        "                    callbacks=[callbacks])\n",
        "  \n",
        "  pred = model.predict(test_padded)\n",
        "  y_pred = pred\n",
        "\n",
        "  accuracy = accuracy_score(y_test.argmax(axis=1), y_pred.argmax(axis=1))\n",
        "  print('perulangan ke-', iteration)\n",
        "  print(classification_report(y_test.argmax(axis=1), y_pred.argmax(axis=1)))\n",
        "  print('---------------------------------------------------------------')\n",
        "\n",
        "  accuracies.append(accuracy)\n",
        "\n",
        "average_accuracy = np.mean(accuracies)\n",
        "\n",
        "print()\n",
        "print()\n",
        "print('akurasi sebesar:', average_accuracy)"
      ]
    },
    {
      "cell_type": "code",
      "execution_count": null,
      "metadata": {
        "colab": {
          "base_uri": "https://localhost:8080/"
        },
        "id": "YjM9lrmHYRaK",
        "outputId": "56d59527-5710-4d03-a7c0-378eba9346d9"
      },
      "outputs": [
        {
          "name": "stdout",
          "output_type": "stream",
          "text": [
            "1/1 [==============================] - 0s 42ms/step\n",
            "[[0.434168   0.11892369 0.4469083 ]] positive\n"
          ]
        }
      ],
      "source": [
        "tweet = ['rasa syukur, cukuppp']\n",
        "seq = tokenizer.texts_to_sequences(tweet)\n",
        "padded = pad_sequences(seq, maxlen=max_length)\n",
        "pred = model.predict(padded)\n",
        "labels = ['negative', 'neutral', 'positive']\n",
        "print(pred, labels[np.argmax(pred)])"
      ]
    }
  ],
  "metadata": {
    "colab": {
      "collapsed_sections": [
        "ZhvSEq4dGmYS",
        "hNvCuDtpGhGy",
        "_g3b8PCMGjOA",
        "Ai3U3NgmBNft"
      ],
      "provenance": []
    },
    "kernelspec": {
      "display_name": "Python 3",
      "name": "python3"
    },
    "language_info": {
      "name": "python"
    }
  },
  "nbformat": 4,
  "nbformat_minor": 0
}